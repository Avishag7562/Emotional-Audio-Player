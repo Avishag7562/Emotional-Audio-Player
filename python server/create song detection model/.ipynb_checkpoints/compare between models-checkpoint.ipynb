{
 "cells": [
  {
   "cell_type": "code",
   "execution_count": 1,
   "metadata": {},
   "outputs": [],
   "source": [
    "import pandas as pd\n",
    "import numpy as np\n",
    "import matplotlib.pyplot as plt\n",
    "import joblib\n",
    "from sklearn.metrics import confusion_matrix\n",
    "import seaborn as sns"
   ]
  },
  {
   "cell_type": "code",
   "execution_count": 2,
   "metadata": {},
   "outputs": [
    {
     "data": {
      "text/html": [
       "<div>\n",
       "<style scoped>\n",
       "    .dataframe tbody tr th:only-of-type {\n",
       "        vertical-align: middle;\n",
       "    }\n",
       "\n",
       "    .dataframe tbody tr th {\n",
       "        vertical-align: top;\n",
       "    }\n",
       "\n",
       "    .dataframe thead th {\n",
       "        text-align: right;\n",
       "    }\n",
       "</style>\n",
       "<table border=\"1\" class=\"dataframe\">\n",
       "  <thead>\n",
       "    <tr style=\"text-align: right;\">\n",
       "      <th></th>\n",
       "      <th>Unnamed: 0</th>\n",
       "      <th>id</th>\n",
       "      <th>class</th>\n",
       "      <th>label</th>\n",
       "      <th>song_name</th>\n",
       "      <th>tempo</th>\n",
       "      <th>total_beats</th>\n",
       "      <th>average_beats</th>\n",
       "      <th>chroma_stft_mean</th>\n",
       "      <th>chroma_stft_std</th>\n",
       "      <th>...</th>\n",
       "      <th>zcr_var</th>\n",
       "      <th>harm_mean</th>\n",
       "      <th>harm_std</th>\n",
       "      <th>harm_var</th>\n",
       "      <th>perc_mean</th>\n",
       "      <th>perc_std</th>\n",
       "      <th>perc_var</th>\n",
       "      <th>frame_mean</th>\n",
       "      <th>frame_std</th>\n",
       "      <th>frame_var</th>\n",
       "    </tr>\n",
       "  </thead>\n",
       "  <tbody>\n",
       "    <tr>\n",
       "      <th>0</th>\n",
       "      <td>1</td>\n",
       "      <td>1</td>\n",
       "      <td>Angry</td>\n",
       "      <td>1</td>\n",
       "      <td>angry (1).mp3</td>\n",
       "      <td>117.453835</td>\n",
       "      <td>150774</td>\n",
       "      <td>1396.055556</td>\n",
       "      <td>0.495345</td>\n",
       "      <td>0.284957</td>\n",
       "      <td>...</td>\n",
       "      <td>0.003717</td>\n",
       "      <td>-0.000092</td>\n",
       "      <td>0.319862</td>\n",
       "      <td>0.102312</td>\n",
       "      <td>-0.001473</td>\n",
       "      <td>0.090975</td>\n",
       "      <td>0.008277</td>\n",
       "      <td>10.173823</td>\n",
       "      <td>6.816575</td>\n",
       "      <td>46.465690</td>\n",
       "    </tr>\n",
       "    <tr>\n",
       "      <th>1</th>\n",
       "      <td>2</td>\n",
       "      <td>2</td>\n",
       "      <td>Angry</td>\n",
       "      <td>1</td>\n",
       "      <td>angry (10).mp3</td>\n",
       "      <td>107.666016</td>\n",
       "      <td>137825</td>\n",
       "      <td>1288.084112</td>\n",
       "      <td>0.341892</td>\n",
       "      <td>0.299546</td>\n",
       "      <td>...</td>\n",
       "      <td>0.002319</td>\n",
       "      <td>-0.000001</td>\n",
       "      <td>0.128657</td>\n",
       "      <td>0.016553</td>\n",
       "      <td>-0.000005</td>\n",
       "      <td>0.098791</td>\n",
       "      <td>0.009760</td>\n",
       "      <td>3.190422</td>\n",
       "      <td>2.107617</td>\n",
       "      <td>4.442051</td>\n",
       "    </tr>\n",
       "    <tr>\n",
       "      <th>2</th>\n",
       "      <td>3</td>\n",
       "      <td>3</td>\n",
       "      <td>Angry</td>\n",
       "      <td>1</td>\n",
       "      <td>angry (11).mp3</td>\n",
       "      <td>129.199219</td>\n",
       "      <td>166026</td>\n",
       "      <td>1317.666667</td>\n",
       "      <td>0.363560</td>\n",
       "      <td>0.309693</td>\n",
       "      <td>...</td>\n",
       "      <td>0.005790</td>\n",
       "      <td>-0.000009</td>\n",
       "      <td>0.222267</td>\n",
       "      <td>0.049403</td>\n",
       "      <td>-0.000141</td>\n",
       "      <td>0.117890</td>\n",
       "      <td>0.013898</td>\n",
       "      <td>3.524789</td>\n",
       "      <td>1.455182</td>\n",
       "      <td>2.117554</td>\n",
       "    </tr>\n",
       "    <tr>\n",
       "      <th>3</th>\n",
       "      <td>4</td>\n",
       "      <td>4</td>\n",
       "      <td>Angry</td>\n",
       "      <td>1</td>\n",
       "      <td>angry (12).mp3</td>\n",
       "      <td>123.046875</td>\n",
       "      <td>154017</td>\n",
       "      <td>1272.867769</td>\n",
       "      <td>0.366583</td>\n",
       "      <td>0.308049</td>\n",
       "      <td>...</td>\n",
       "      <td>0.007420</td>\n",
       "      <td>-0.000025</td>\n",
       "      <td>0.162104</td>\n",
       "      <td>0.026278</td>\n",
       "      <td>-0.000199</td>\n",
       "      <td>0.171905</td>\n",
       "      <td>0.029551</td>\n",
       "      <td>3.117279</td>\n",
       "      <td>1.444570</td>\n",
       "      <td>2.086782</td>\n",
       "    </tr>\n",
       "    <tr>\n",
       "      <th>4</th>\n",
       "      <td>5</td>\n",
       "      <td>5</td>\n",
       "      <td>Angry</td>\n",
       "      <td>1</td>\n",
       "      <td>angry (13).mp3</td>\n",
       "      <td>117.453835</td>\n",
       "      <td>144954</td>\n",
       "      <td>1271.526316</td>\n",
       "      <td>0.393450</td>\n",
       "      <td>0.315378</td>\n",
       "      <td>...</td>\n",
       "      <td>0.004760</td>\n",
       "      <td>-0.000004</td>\n",
       "      <td>0.138120</td>\n",
       "      <td>0.019077</td>\n",
       "      <td>0.000008</td>\n",
       "      <td>0.143627</td>\n",
       "      <td>0.020629</td>\n",
       "      <td>2.145524</td>\n",
       "      <td>0.974586</td>\n",
       "      <td>0.949817</td>\n",
       "    </tr>\n",
       "  </tbody>\n",
       "</table>\n",
       "<p>5 rows × 59 columns</p>\n",
       "</div>"
      ],
      "text/plain": [
       "   Unnamed: 0  id  class  label       song_name       tempo  total_beats  \\\n",
       "0           1   1  Angry      1   angry (1).mp3  117.453835       150774   \n",
       "1           2   2  Angry      1  angry (10).mp3  107.666016       137825   \n",
       "2           3   3  Angry      1  angry (11).mp3  129.199219       166026   \n",
       "3           4   4  Angry      1  angry (12).mp3  123.046875       154017   \n",
       "4           5   5  Angry      1  angry (13).mp3  117.453835       144954   \n",
       "\n",
       "   average_beats  chroma_stft_mean  chroma_stft_std  ...   zcr_var  harm_mean  \\\n",
       "0    1396.055556          0.495345         0.284957  ...  0.003717  -0.000092   \n",
       "1    1288.084112          0.341892         0.299546  ...  0.002319  -0.000001   \n",
       "2    1317.666667          0.363560         0.309693  ...  0.005790  -0.000009   \n",
       "3    1272.867769          0.366583         0.308049  ...  0.007420  -0.000025   \n",
       "4    1271.526316          0.393450         0.315378  ...  0.004760  -0.000004   \n",
       "\n",
       "   harm_std  harm_var  perc_mean  perc_std  perc_var  frame_mean  frame_std  \\\n",
       "0  0.319862  0.102312  -0.001473  0.090975  0.008277   10.173823   6.816575   \n",
       "1  0.128657  0.016553  -0.000005  0.098791  0.009760    3.190422   2.107617   \n",
       "2  0.222267  0.049403  -0.000141  0.117890  0.013898    3.524789   1.455182   \n",
       "3  0.162104  0.026278  -0.000199  0.171905  0.029551    3.117279   1.444570   \n",
       "4  0.138120  0.019077   0.000008  0.143627  0.020629    2.145524   0.974586   \n",
       "\n",
       "   frame_var  \n",
       "0  46.465690  \n",
       "1   4.442051  \n",
       "2   2.117554  \n",
       "3   2.086782  \n",
       "4   0.949817  \n",
       "\n",
       "[5 rows x 59 columns]"
      ]
     },
     "execution_count": 2,
     "metadata": {},
     "output_type": "execute_result"
    }
   ],
   "source": [
    "df = pd.read_csv(r\"C:\\Users\\Avishag\\OneDrive\\songs_data.csv\")\n",
    "df.head()"
   ]
  },
  {
   "cell_type": "code",
   "execution_count": 3,
   "metadata": {},
   "outputs": [],
   "source": [
    "x = df.drop(['id','class','label','song_name','Unnamed: 0'],axis = 1)\n",
    "y = df['class']"
   ]
  },
  {
   "cell_type": "code",
   "execution_count": 4,
   "metadata": {
    "scrolled": true
   },
   "outputs": [
    {
     "data": {
      "text/html": [
       "<div>\n",
       "<style scoped>\n",
       "    .dataframe tbody tr th:only-of-type {\n",
       "        vertical-align: middle;\n",
       "    }\n",
       "\n",
       "    .dataframe tbody tr th {\n",
       "        vertical-align: top;\n",
       "    }\n",
       "\n",
       "    .dataframe thead th {\n",
       "        text-align: right;\n",
       "    }\n",
       "</style>\n",
       "<table border=\"1\" class=\"dataframe\">\n",
       "  <thead>\n",
       "    <tr style=\"text-align: right;\">\n",
       "      <th></th>\n",
       "      <th>tempo</th>\n",
       "      <th>total_beats</th>\n",
       "      <th>average_beats</th>\n",
       "      <th>chroma_stft_mean</th>\n",
       "      <th>chroma_stft_std</th>\n",
       "      <th>chroma_stft_var</th>\n",
       "      <th>chroma_cq_mean</th>\n",
       "      <th>chroma_cq_std</th>\n",
       "      <th>chroma_cq_var</th>\n",
       "      <th>chroma_cens_mean</th>\n",
       "      <th>...</th>\n",
       "      <th>zcr_var</th>\n",
       "      <th>harm_mean</th>\n",
       "      <th>harm_std</th>\n",
       "      <th>harm_var</th>\n",
       "      <th>perc_mean</th>\n",
       "      <th>perc_std</th>\n",
       "      <th>perc_var</th>\n",
       "      <th>frame_mean</th>\n",
       "      <th>frame_std</th>\n",
       "      <th>frame_var</th>\n",
       "    </tr>\n",
       "  </thead>\n",
       "  <tbody>\n",
       "    <tr>\n",
       "      <th>0</th>\n",
       "      <td>-0.301565</td>\n",
       "      <td>-0.048376</td>\n",
       "      <td>0.854805</td>\n",
       "      <td>1.836876</td>\n",
       "      <td>-1.652417</td>\n",
       "      <td>-1.651030</td>\n",
       "      <td>-0.912212</td>\n",
       "      <td>1.108938</td>\n",
       "      <td>1.180379</td>\n",
       "      <td>-1.406929</td>\n",
       "      <td>...</td>\n",
       "      <td>-0.152135</td>\n",
       "      <td>-0.007945</td>\n",
       "      <td>3.288466</td>\n",
       "      <td>4.421394</td>\n",
       "      <td>-2.003127</td>\n",
       "      <td>0.098919</td>\n",
       "      <td>-0.102649</td>\n",
       "      <td>1.183379</td>\n",
       "      <td>2.782614</td>\n",
       "      <td>2.348147</td>\n",
       "    </tr>\n",
       "    <tr>\n",
       "      <th>1</th>\n",
       "      <td>-0.707681</td>\n",
       "      <td>-0.422294</td>\n",
       "      <td>-0.005059</td>\n",
       "      <td>-0.108036</td>\n",
       "      <td>-0.087682</td>\n",
       "      <td>-0.104700</td>\n",
       "      <td>0.343889</td>\n",
       "      <td>0.493401</td>\n",
       "      <td>0.485454</td>\n",
       "      <td>0.428108</td>\n",
       "      <td>...</td>\n",
       "      <td>-0.636360</td>\n",
       "      <td>0.035474</td>\n",
       "      <td>-0.546486</td>\n",
       "      <td>-0.599472</td>\n",
       "      <td>-0.040753</td>\n",
       "      <td>0.279189</td>\n",
       "      <td>0.033559</td>\n",
       "      <td>-0.490679</td>\n",
       "      <td>-0.121473</td>\n",
       "      <td>-0.213224</td>\n",
       "    </tr>\n",
       "    <tr>\n",
       "      <th>2</th>\n",
       "      <td>0.185775</td>\n",
       "      <td>0.392043</td>\n",
       "      <td>0.230531</td>\n",
       "      <td>0.166587</td>\n",
       "      <td>1.000628</td>\n",
       "      <td>1.016327</td>\n",
       "      <td>0.469968</td>\n",
       "      <td>0.661903</td>\n",
       "      <td>0.672204</td>\n",
       "      <td>0.245275</td>\n",
       "      <td>...</td>\n",
       "      <td>0.566201</td>\n",
       "      <td>0.031818</td>\n",
       "      <td>1.331021</td>\n",
       "      <td>1.323763</td>\n",
       "      <td>-0.222722</td>\n",
       "      <td>0.719722</td>\n",
       "      <td>0.413622</td>\n",
       "      <td>-0.410525</td>\n",
       "      <td>-0.523840</td>\n",
       "      <td>-0.354904</td>\n",
       "    </tr>\n",
       "    <tr>\n",
       "      <th>3</th>\n",
       "      <td>-0.069498</td>\n",
       "      <td>0.045269</td>\n",
       "      <td>-0.126240</td>\n",
       "      <td>0.204904</td>\n",
       "      <td>0.824398</td>\n",
       "      <td>0.832265</td>\n",
       "      <td>0.541143</td>\n",
       "      <td>-0.621747</td>\n",
       "      <td>-0.684223</td>\n",
       "      <td>0.874273</td>\n",
       "      <td>...</td>\n",
       "      <td>1.130878</td>\n",
       "      <td>0.024120</td>\n",
       "      <td>0.124343</td>\n",
       "      <td>-0.030114</td>\n",
       "      <td>-0.300212</td>\n",
       "      <td>1.965602</td>\n",
       "      <td>1.851179</td>\n",
       "      <td>-0.508213</td>\n",
       "      <td>-0.530384</td>\n",
       "      <td>-0.356779</td>\n",
       "    </tr>\n",
       "    <tr>\n",
       "      <th>4</th>\n",
       "      <td>-0.301565</td>\n",
       "      <td>-0.216436</td>\n",
       "      <td>-0.136923</td>\n",
       "      <td>0.545425</td>\n",
       "      <td>1.610388</td>\n",
       "      <td>1.660739</td>\n",
       "      <td>0.446480</td>\n",
       "      <td>0.633503</td>\n",
       "      <td>0.640544</td>\n",
       "      <td>0.262837</td>\n",
       "      <td>...</td>\n",
       "      <td>0.209306</td>\n",
       "      <td>0.034157</td>\n",
       "      <td>-0.356705</td>\n",
       "      <td>-0.451684</td>\n",
       "      <td>-0.023509</td>\n",
       "      <td>1.313359</td>\n",
       "      <td>1.031752</td>\n",
       "      <td>-0.741162</td>\n",
       "      <td>-0.820231</td>\n",
       "      <td>-0.426078</td>\n",
       "    </tr>\n",
       "  </tbody>\n",
       "</table>\n",
       "<p>5 rows × 54 columns</p>\n",
       "</div>"
      ],
      "text/plain": [
       "      tempo  total_beats  average_beats  chroma_stft_mean  chroma_stft_std  \\\n",
       "0 -0.301565    -0.048376       0.854805          1.836876        -1.652417   \n",
       "1 -0.707681    -0.422294      -0.005059         -0.108036        -0.087682   \n",
       "2  0.185775     0.392043       0.230531          0.166587         1.000628   \n",
       "3 -0.069498     0.045269      -0.126240          0.204904         0.824398   \n",
       "4 -0.301565    -0.216436      -0.136923          0.545425         1.610388   \n",
       "\n",
       "   chroma_stft_var  chroma_cq_mean  chroma_cq_std  chroma_cq_var  \\\n",
       "0        -1.651030       -0.912212       1.108938       1.180379   \n",
       "1        -0.104700        0.343889       0.493401       0.485454   \n",
       "2         1.016327        0.469968       0.661903       0.672204   \n",
       "3         0.832265        0.541143      -0.621747      -0.684223   \n",
       "4         1.660739        0.446480       0.633503       0.640544   \n",
       "\n",
       "   chroma_cens_mean  ...   zcr_var  harm_mean  harm_std  harm_var  perc_mean  \\\n",
       "0         -1.406929  ... -0.152135  -0.007945  3.288466  4.421394  -2.003127   \n",
       "1          0.428108  ... -0.636360   0.035474 -0.546486 -0.599472  -0.040753   \n",
       "2          0.245275  ...  0.566201   0.031818  1.331021  1.323763  -0.222722   \n",
       "3          0.874273  ...  1.130878   0.024120  0.124343 -0.030114  -0.300212   \n",
       "4          0.262837  ...  0.209306   0.034157 -0.356705 -0.451684  -0.023509   \n",
       "\n",
       "   perc_std  perc_var  frame_mean  frame_std  frame_var  \n",
       "0  0.098919 -0.102649    1.183379   2.782614   2.348147  \n",
       "1  0.279189  0.033559   -0.490679  -0.121473  -0.213224  \n",
       "2  0.719722  0.413622   -0.410525  -0.523840  -0.354904  \n",
       "3  1.965602  1.851179   -0.508213  -0.530384  -0.356779  \n",
       "4  1.313359  1.031752   -0.741162  -0.820231  -0.426078  \n",
       "\n",
       "[5 rows x 54 columns]"
      ]
     },
     "execution_count": 4,
     "metadata": {},
     "output_type": "execute_result"
    }
   ],
   "source": [
    "from sklearn.preprocessing import StandardScaler\n",
    "\n",
    "ss = StandardScaler()\n",
    "ss.fit(x)\n",
    "joblib.dump(ss, 'fitted_scaler.save')\n",
    "cols = x.columns \n",
    "x = pd.DataFrame(ss.transform(x)) \n",
    "x.columns = cols\n",
    "x.head()\n"
   ]
  },
  {
   "cell_type": "markdown",
   "metadata": {},
   "source": [
    "# Decision Tree Classifier"
   ]
  },
  {
   "cell_type": "code",
   "execution_count": 5,
   "metadata": {},
   "outputs": [],
   "source": [
    "from sklearn import tree\n",
    "from sklearn.model_selection import GridSearchCV\n",
    "from sklearn.model_selection import train_test_split\n",
    "\n",
    "# used to ensure that the class proportions in the target variable (usually denoted as y) are maintained in both the training and testing sets. \n",
    "X_train, X_test, y_train, y_test = train_test_split(x, y, test_size = 0.2, stratify = y)\n",
    "\n",
    "model = tree.DecisionTreeClassifier()\n",
    "param_grid = {'criterion': ['gini','entropy']}\n",
    "dt = model.fit(X_train,y_train)\n",
    "dtree_cv = GridSearchCV(model,param_grid,cv= 8)\n",
    "dtree_cv.fit(X_train,y_train)\n",
    "dtree_ypred = dtree_cv.predict(x)"
   ]
  },
  {
   "cell_type": "code",
   "execution_count": 6,
   "metadata": {},
   "outputs": [
    {
     "data": {
      "text/html": [
       "<div>\n",
       "<style scoped>\n",
       "    .dataframe tbody tr th:only-of-type {\n",
       "        vertical-align: middle;\n",
       "    }\n",
       "\n",
       "    .dataframe tbody tr th {\n",
       "        vertical-align: top;\n",
       "    }\n",
       "\n",
       "    .dataframe thead th {\n",
       "        text-align: right;\n",
       "    }\n",
       "</style>\n",
       "<table border=\"1\" class=\"dataframe\">\n",
       "  <thead>\n",
       "    <tr style=\"text-align: right;\">\n",
       "      <th>Predicted</th>\n",
       "      <th>Angry</th>\n",
       "      <th>Calm</th>\n",
       "      <th>Happy</th>\n",
       "      <th>Sad</th>\n",
       "      <th>All</th>\n",
       "    </tr>\n",
       "    <tr>\n",
       "      <th>True</th>\n",
       "      <th></th>\n",
       "      <th></th>\n",
       "      <th></th>\n",
       "      <th></th>\n",
       "      <th></th>\n",
       "    </tr>\n",
       "  </thead>\n",
       "  <tbody>\n",
       "    <tr>\n",
       "      <th>Angry</th>\n",
       "      <td>22</td>\n",
       "      <td>0</td>\n",
       "      <td>5</td>\n",
       "      <td>0</td>\n",
       "      <td>27</td>\n",
       "    </tr>\n",
       "    <tr>\n",
       "      <th>Calm</th>\n",
       "      <td>0</td>\n",
       "      <td>75</td>\n",
       "      <td>10</td>\n",
       "      <td>2</td>\n",
       "      <td>87</td>\n",
       "    </tr>\n",
       "    <tr>\n",
       "      <th>Happy</th>\n",
       "      <td>3</td>\n",
       "      <td>3</td>\n",
       "      <td>196</td>\n",
       "      <td>3</td>\n",
       "      <td>205</td>\n",
       "    </tr>\n",
       "    <tr>\n",
       "      <th>Sad</th>\n",
       "      <td>0</td>\n",
       "      <td>6</td>\n",
       "      <td>1</td>\n",
       "      <td>60</td>\n",
       "      <td>67</td>\n",
       "    </tr>\n",
       "    <tr>\n",
       "      <th>All</th>\n",
       "      <td>25</td>\n",
       "      <td>84</td>\n",
       "      <td>212</td>\n",
       "      <td>65</td>\n",
       "      <td>386</td>\n",
       "    </tr>\n",
       "  </tbody>\n",
       "</table>\n",
       "</div>"
      ],
      "text/plain": [
       "Predicted  Angry  Calm  Happy  Sad  All\n",
       "True                                   \n",
       "Angry         22     0      5    0   27\n",
       "Calm           0    75     10    2   87\n",
       "Happy          3     3    196    3  205\n",
       "Sad            0     6      1   60   67\n",
       "All           25    84    212   65  386"
      ]
     },
     "execution_count": 6,
     "metadata": {},
     "output_type": "execute_result"
    }
   ],
   "source": [
    "pd.crosstab(y,dtree_ypred, rownames=['True'], colnames=['Predicted'], margins=True)"
   ]
  },
  {
   "cell_type": "code",
   "execution_count": 8,
   "metadata": {},
   "outputs": [
    {
     "data": {
      "text/plain": [
       "Text(50.722222222222214, 0.5, 'truth')"
      ]
     },
     "execution_count": 8,
     "metadata": {},
     "output_type": "execute_result"
    },
    {
     "data": {
      "image/png": "[encoded data removed]",
      "text/plain": [
       "<Figure size 640x480 with 2 Axes>"
      ]
     },
     "metadata": {},
     "output_type": "display_data"
    }
   ],
   "source": [
    "cm = confusion_matrix(y,dtree_ypred)\n",
    "sns.heatmap(cm,annot=True)\n",
    "plt.xlabel('predicted')\n",
    "plt.ylabel('truth')"
   ]
  },
  {
   "cell_type": "code",
   "execution_count": 7,
   "metadata": {},
   "outputs": [
    {
     "name": "stdout",
     "output_type": "stream",
     "text": [
      "Testing Accuracy is 91.45077720207254 %\n"
     ]
    }
   ],
   "source": [
    "print('Testing Accuracy is',dtree_cv.score(x,y)*100,'%')"
   ]
  },
  {
   "cell_type": "markdown",
   "metadata": {},
   "source": [
    "# K Nearest Neighbors\n"
   ]
  },
  {
   "cell_type": "code",
   "execution_count": 12,
   "metadata": {},
   "outputs": [],
   "source": [
    "from sklearn.neighbors import KNeighborsClassifier\n",
    "from sklearn.model_selection import GridSearchCV\n",
    "from sklearn.model_selection import train_test_split\n",
    "from sklearn.metrics import confusion_matrix\n",
    "from sklearn.metrics import accuracy_score\n",
    "from sklearn.impute import SimpleImputer"
   ]
  },
  {
   "cell_type": "code",
   "execution_count": 13,
   "metadata": {},
   "outputs": [],
   "source": [
    "X = x.loc[:, :]\n",
    "featureName = list(X)\n",
    "for name in featureName:\n",
    "    X[name] = (X[name]-X[name].min())/(X[name].max()-X[name].min())"
   ]
  },
  {
   "cell_type": "code",
   "execution_count": 14,
   "metadata": {
    "scrolled": true
   },
   "outputs": [
    {
     "data": {
      "text/html": [
       "<style>#sk-container-id-1 {color: black;}#sk-container-id-1 pre{padding: 0;}#sk-container-id-1 div.sk-toggleable {background-color: white;}#sk-container-id-1 label.sk-toggleable__label {cursor: pointer;display: block;width: 100%;margin-bottom: 0;padding: 0.3em;box-sizing: border-box;text-align: center;}#sk-container-id-1 label.sk-toggleable__label-arrow:before {content: \"▸\";float: left;margin-right: 0.25em;color: #696969;}#sk-container-id-1 label.sk-toggleable__label-arrow:hover:before {color: black;}#sk-container-id-1 div.sk-estimator:hover label.sk-toggleable__label-arrow:before {color: black;}#sk-container-id-1 div.sk-toggleable__content {max-height: 0;max-width: 0;overflow: hidden;text-align: left;background-color: #f0f8ff;}#sk-container-id-1 div.sk-toggleable__content pre {margin: 0.2em;color: black;border-radius: 0.25em;background-color: #f0f8ff;}#sk-container-id-1 input.sk-toggleable__control:checked~div.sk-toggleable__content {max-height: 200px;max-width: 100%;overflow: auto;}#sk-container-id-1 input.sk-toggleable__control:checked~label.sk-toggleable__label-arrow:before {content: \"▾\";}#sk-container-id-1 div.sk-estimator input.sk-toggleable__control:checked~label.sk-toggleable__label {background-color: #d4ebff;}#sk-container-id-1 div.sk-label input.sk-toggleable__control:checked~label.sk-toggleable__label {background-color: #d4ebff;}#sk-container-id-1 input.sk-hidden--visually {border: 0;clip: rect(1px 1px 1px 1px);clip: rect(1px, 1px, 1px, 1px);height: 1px;margin: -1px;overflow: hidden;padding: 0;position: absolute;width: 1px;}#sk-container-id-1 div.sk-estimator {font-family: monospace;background-color: #f0f8ff;border: 1px dotted black;border-radius: 0.25em;box-sizing: border-box;margin-bottom: 0.5em;}#sk-container-id-1 div.sk-estimator:hover {background-color: #d4ebff;}#sk-container-id-1 div.sk-parallel-item::after {content: \"\";width: 100%;border-bottom: 1px solid gray;flex-grow: 1;}#sk-container-id-1 div.sk-label:hover label.sk-toggleable__label {background-color: #d4ebff;}#sk-container-id-1 div.sk-serial::before {content: \"\";position: absolute;border-left: 1px solid gray;box-sizing: border-box;top: 0;bottom: 0;left: 50%;z-index: 0;}#sk-container-id-1 div.sk-serial {display: flex;flex-direction: column;align-items: center;background-color: white;padding-right: 0.2em;padding-left: 0.2em;position: relative;}#sk-container-id-1 div.sk-item {position: relative;z-index: 1;}#sk-container-id-1 div.sk-parallel {display: flex;align-items: stretch;justify-content: center;background-color: white;position: relative;}#sk-container-id-1 div.sk-item::before, #sk-container-id-1 div.sk-parallel-item::before {content: \"\";position: absolute;border-left: 1px solid gray;box-sizing: border-box;top: 0;bottom: 0;left: 50%;z-index: -1;}#sk-container-id-1 div.sk-parallel-item {display: flex;flex-direction: column;z-index: 1;position: relative;background-color: white;}#sk-container-id-1 div.sk-parallel-item:first-child::after {align-self: flex-end;width: 50%;}#sk-container-id-1 div.sk-parallel-item:last-child::after {align-self: flex-start;width: 50%;}#sk-container-id-1 div.sk-parallel-item:only-child::after {width: 0;}#sk-container-id-1 div.sk-dashed-wrapped {border: 1px dashed gray;margin: 0 0.4em 0.5em 0.4em;box-sizing: border-box;padding-bottom: 0.4em;background-color: white;}#sk-container-id-1 div.sk-label label {font-family: monospace;font-weight: bold;display: inline-block;line-height: 1.2em;}#sk-container-id-1 div.sk-label-container {text-align: center;}#sk-container-id-1 div.sk-container {/* jupyter's `normalize.less` sets `[hidden] { display: none; }` but bootstrap.min.css set `[hidden] { display: none !important; }` so we also need the `!important` here to be able to override the default hidden behavior on the sphinx rendered scikit-learn.org. See: https://github.com/scikit-learn/scikit-learn/issues/21755 */display: inline-block !important;position: relative;}#sk-container-id-1 div.sk-text-repr-fallback {display: none;}</style><div id=\"sk-container-id-1\" class=\"sk-top-container\"><div class=\"sk-text-repr-fallback\"><pre>GridSearchCV(cv=10, estimator=KNeighborsClassifier(),\n",
       "             param_grid={&#x27;n_neighbors&#x27;: array([ 1,  2,  3,  4,  5,  6,  7,  8,  9, 10, 11, 12, 13, 14, 15, 16, 17,\n",
       "       18, 19, 20, 21, 22, 23, 24])})</pre><b>In a Jupyter environment, please rerun this cell to show the HTML representation or trust the notebook. <br />On GitHub, the HTML representation is unable to render, please try loading this page with nbviewer.org.</b></div><div class=\"sk-container\" hidden><div class=\"sk-item sk-dashed-wrapped\"><div class=\"sk-label-container\"><div class=\"sk-label sk-toggleable\"><input class=\"sk-toggleable__control sk-hidden--visually\" id=\"sk-estimator-id-1\" type=\"checkbox\" ><label for=\"sk-estimator-id-1\" class=\"sk-toggleable__label sk-toggleable__label-arrow\">GridSearchCV</label><div class=\"sk-toggleable__content\"><pre>GridSearchCV(cv=10, estimator=KNeighborsClassifier(),\n",
       "             param_grid={&#x27;n_neighbors&#x27;: array([ 1,  2,  3,  4,  5,  6,  7,  8,  9, 10, 11, 12, 13, 14, 15, 16, 17,\n",
       "       18, 19, 20, 21, 22, 23, 24])})</pre></div></div></div><div class=\"sk-parallel\"><div class=\"sk-parallel-item\"><div class=\"sk-item\"><div class=\"sk-label-container\"><div class=\"sk-label sk-toggleable\"><input class=\"sk-toggleable__control sk-hidden--visually\" id=\"sk-estimator-id-2\" type=\"checkbox\" ><label for=\"sk-estimator-id-2\" class=\"sk-toggleable__label sk-toggleable__label-arrow\">estimator: KNeighborsClassifier</label><div class=\"sk-toggleable__content\"><pre>KNeighborsClassifier()</pre></div></div></div><div class=\"sk-serial\"><div class=\"sk-item\"><div class=\"sk-estimator sk-toggleable\"><input class=\"sk-toggleable__control sk-hidden--visually\" id=\"sk-estimator-id-3\" type=\"checkbox\" ><label for=\"sk-estimator-id-3\" class=\"sk-toggleable__label sk-toggleable__label-arrow\">KNeighborsClassifier</label><div class=\"sk-toggleable__content\"><pre>KNeighborsClassifier()</pre></div></div></div></div></div></div></div></div></div></div>"
      ],
      "text/plain": [
       "GridSearchCV(cv=10, estimator=KNeighborsClassifier(),\n",
       "             param_grid={'n_neighbors': array([ 1,  2,  3,  4,  5,  6,  7,  8,  9, 10, 11, 12, 13, 14, 15, 16, 17,\n",
       "       18, 19, 20, 21, 22, 23, 24])})"
      ]
     },
     "execution_count": 14,
     "metadata": {},
     "output_type": "execute_result"
    }
   ],
   "source": [
    "# Create the KNeighborsClassifier and define the hyperparameter grid\n",
    "knn = KNeighborsClassifier()\n",
    "param_grid = {'n_neighbors': np.arange(1, 25)}\n",
    "knn_cv = GridSearchCV(knn, param_grid, cv=10)\n",
    "knn_cv.fit(X, y)"
   ]
  },
  {
   "cell_type": "code",
   "execution_count": 15,
   "metadata": {},
   "outputs": [
    {
     "name": "stdout",
     "output_type": "stream",
     "text": [
      "{'n_neighbors': 22}\n"
     ]
    }
   ],
   "source": [
    "print(knn_cv.best_params_)"
   ]
  },
  {
   "cell_type": "code",
   "execution_count": 16,
   "metadata": {},
   "outputs": [],
   "source": [
    "knn = KNeighborsClassifier(22)\n",
    "knn_cv = knn.fit(X,y)"
   ]
  },
  {
   "cell_type": "code",
   "execution_count": 17,
   "metadata": {},
   "outputs": [
    {
     "data": {
      "text/html": [
       "<div>\n",
       "<style scoped>\n",
       "    .dataframe tbody tr th:only-of-type {\n",
       "        vertical-align: middle;\n",
       "    }\n",
       "\n",
       "    .dataframe tbody tr th {\n",
       "        vertical-align: top;\n",
       "    }\n",
       "\n",
       "    .dataframe thead th {\n",
       "        text-align: right;\n",
       "    }\n",
       "</style>\n",
       "<table border=\"1\" class=\"dataframe\">\n",
       "  <thead>\n",
       "    <tr style=\"text-align: right;\">\n",
       "      <th>Predicted</th>\n",
       "      <th>Angry</th>\n",
       "      <th>Calm</th>\n",
       "      <th>Happy</th>\n",
       "      <th>Sad</th>\n",
       "      <th>All</th>\n",
       "    </tr>\n",
       "    <tr>\n",
       "      <th>True</th>\n",
       "      <th></th>\n",
       "      <th></th>\n",
       "      <th></th>\n",
       "      <th></th>\n",
       "      <th></th>\n",
       "    </tr>\n",
       "  </thead>\n",
       "  <tbody>\n",
       "    <tr>\n",
       "      <th>Angry</th>\n",
       "      <td>1</td>\n",
       "      <td>2</td>\n",
       "      <td>23</td>\n",
       "      <td>1</td>\n",
       "      <td>27</td>\n",
       "    </tr>\n",
       "    <tr>\n",
       "      <th>Calm</th>\n",
       "      <td>0</td>\n",
       "      <td>48</td>\n",
       "      <td>16</td>\n",
       "      <td>23</td>\n",
       "      <td>87</td>\n",
       "    </tr>\n",
       "    <tr>\n",
       "      <th>Happy</th>\n",
       "      <td>0</td>\n",
       "      <td>18</td>\n",
       "      <td>184</td>\n",
       "      <td>3</td>\n",
       "      <td>205</td>\n",
       "    </tr>\n",
       "    <tr>\n",
       "      <th>Sad</th>\n",
       "      <td>0</td>\n",
       "      <td>14</td>\n",
       "      <td>2</td>\n",
       "      <td>51</td>\n",
       "      <td>67</td>\n",
       "    </tr>\n",
       "    <tr>\n",
       "      <th>All</th>\n",
       "      <td>1</td>\n",
       "      <td>82</td>\n",
       "      <td>225</td>\n",
       "      <td>78</td>\n",
       "      <td>386</td>\n",
       "    </tr>\n",
       "  </tbody>\n",
       "</table>\n",
       "</div>"
      ],
      "text/plain": [
       "Predicted  Angry  Calm  Happy  Sad  All\n",
       "True                                   \n",
       "Angry          1     2     23    1   27\n",
       "Calm           0    48     16   23   87\n",
       "Happy          0    18    184    3  205\n",
       "Sad            0    14      2   51   67\n",
       "All            1    82    225   78  386"
      ]
     },
     "execution_count": 17,
     "metadata": {},
     "output_type": "execute_result"
    }
   ],
   "source": [
    "knn_Y_pred = knn_cv.predict(X)\n",
    "pd.crosstab(y, knn_Y_pred, rownames=['True'], colnames=['Predicted'], margins=True)"
   ]
  },
  {
   "cell_type": "code",
   "execution_count": 18,
   "metadata": {},
   "outputs": [
    {
     "name": "stdout",
     "output_type": "stream",
     "text": [
      "Accuracy Score is:  73.57512953367875 %\n"
     ]
    }
   ],
   "source": [
    "print(\"Accuracy Score is: \",accuracy_score(y, knn_Y_pred)*100,'%')"
   ]
  },
  {
   "cell_type": "markdown",
   "metadata": {},
   "source": [
    "# Random Forest Classifier"
   ]
  },
  {
   "cell_type": "code",
   "execution_count": 19,
   "metadata": {},
   "outputs": [
    {
     "data": {
      "text/html": [
       "<style>#sk-container-id-2 {color: black;}#sk-container-id-2 pre{padding: 0;}#sk-container-id-2 div.sk-toggleable {background-color: white;}#sk-container-id-2 label.sk-toggleable__label {cursor: pointer;display: block;width: 100%;margin-bottom: 0;padding: 0.3em;box-sizing: border-box;text-align: center;}#sk-container-id-2 label.sk-toggleable__label-arrow:before {content: \"▸\";float: left;margin-right: 0.25em;color: #696969;}#sk-container-id-2 label.sk-toggleable__label-arrow:hover:before {color: black;}#sk-container-id-2 div.sk-estimator:hover label.sk-toggleable__label-arrow:before {color: black;}#sk-container-id-2 div.sk-toggleable__content {max-height: 0;max-width: 0;overflow: hidden;text-align: left;background-color: #f0f8ff;}#sk-container-id-2 div.sk-toggleable__content pre {margin: 0.2em;color: black;border-radius: 0.25em;background-color: #f0f8ff;}#sk-container-id-2 input.sk-toggleable__control:checked~div.sk-toggleable__content {max-height: 200px;max-width: 100%;overflow: auto;}#sk-container-id-2 input.sk-toggleable__control:checked~label.sk-toggleable__label-arrow:before {content: \"▾\";}#sk-container-id-2 div.sk-estimator input.sk-toggleable__control:checked~label.sk-toggleable__label {background-color: #d4ebff;}#sk-container-id-2 div.sk-label input.sk-toggleable__control:checked~label.sk-toggleable__label {background-color: #d4ebff;}#sk-container-id-2 input.sk-hidden--visually {border: 0;clip: rect(1px 1px 1px 1px);clip: rect(1px, 1px, 1px, 1px);height: 1px;margin: -1px;overflow: hidden;padding: 0;position: absolute;width: 1px;}#sk-container-id-2 div.sk-estimator {font-family: monospace;background-color: #f0f8ff;border: 1px dotted black;border-radius: 0.25em;box-sizing: border-box;margin-bottom: 0.5em;}#sk-container-id-2 div.sk-estimator:hover {background-color: #d4ebff;}#sk-container-id-2 div.sk-parallel-item::after {content: \"\";width: 100%;border-bottom: 1px solid gray;flex-grow: 1;}#sk-container-id-2 div.sk-label:hover label.sk-toggleable__label {background-color: #d4ebff;}#sk-container-id-2 div.sk-serial::before {content: \"\";position: absolute;border-left: 1px solid gray;box-sizing: border-box;top: 0;bottom: 0;left: 50%;z-index: 0;}#sk-container-id-2 div.sk-serial {display: flex;flex-direction: column;align-items: center;background-color: white;padding-right: 0.2em;padding-left: 0.2em;position: relative;}#sk-container-id-2 div.sk-item {position: relative;z-index: 1;}#sk-container-id-2 div.sk-parallel {display: flex;align-items: stretch;justify-content: center;background-color: white;position: relative;}#sk-container-id-2 div.sk-item::before, #sk-container-id-2 div.sk-parallel-item::before {content: \"\";position: absolute;border-left: 1px solid gray;box-sizing: border-box;top: 0;bottom: 0;left: 50%;z-index: -1;}#sk-container-id-2 div.sk-parallel-item {display: flex;flex-direction: column;z-index: 1;position: relative;background-color: white;}#sk-container-id-2 div.sk-parallel-item:first-child::after {align-self: flex-end;width: 50%;}#sk-container-id-2 div.sk-parallel-item:last-child::after {align-self: flex-start;width: 50%;}#sk-container-id-2 div.sk-parallel-item:only-child::after {width: 0;}#sk-container-id-2 div.sk-dashed-wrapped {border: 1px dashed gray;margin: 0 0.4em 0.5em 0.4em;box-sizing: border-box;padding-bottom: 0.4em;background-color: white;}#sk-container-id-2 div.sk-label label {font-family: monospace;font-weight: bold;display: inline-block;line-height: 1.2em;}#sk-container-id-2 div.sk-label-container {text-align: center;}#sk-container-id-2 div.sk-container {/* jupyter's `normalize.less` sets `[hidden] { display: none; }` but bootstrap.min.css set `[hidden] { display: none !important; }` so we also need the `!important` here to be able to override the default hidden behavior on the sphinx rendered scikit-learn.org. See: https://github.com/scikit-learn/scikit-learn/issues/21755 */display: inline-block !important;position: relative;}#sk-container-id-2 div.sk-text-repr-fallback {display: none;}</style><div id=\"sk-container-id-2\" class=\"sk-top-container\"><div class=\"sk-text-repr-fallback\"><pre>GridSearchCV(cv=10, estimator=RandomForestClassifier(n_estimators=16),\n",
       "             param_grid={&#x27;n_estimators&#x27;: array([ 1,  2,  3,  4,  5,  6,  7,  8,  9, 10, 11, 12, 13, 14, 15, 16, 17,\n",
       "       18, 19])})</pre><b>In a Jupyter environment, please rerun this cell to show the HTML representation or trust the notebook. <br />On GitHub, the HTML representation is unable to render, please try loading this page with nbviewer.org.</b></div><div class=\"sk-container\" hidden><div class=\"sk-item sk-dashed-wrapped\"><div class=\"sk-label-container\"><div class=\"sk-label sk-toggleable\"><input class=\"sk-toggleable__control sk-hidden--visually\" id=\"sk-estimator-id-4\" type=\"checkbox\" ><label for=\"sk-estimator-id-4\" class=\"sk-toggleable__label sk-toggleable__label-arrow\">GridSearchCV</label><div class=\"sk-toggleable__content\"><pre>GridSearchCV(cv=10, estimator=RandomForestClassifier(n_estimators=16),\n",
       "             param_grid={&#x27;n_estimators&#x27;: array([ 1,  2,  3,  4,  5,  6,  7,  8,  9, 10, 11, 12, 13, 14, 15, 16, 17,\n",
       "       18, 19])})</pre></div></div></div><div class=\"sk-parallel\"><div class=\"sk-parallel-item\"><div class=\"sk-item\"><div class=\"sk-label-container\"><div class=\"sk-label sk-toggleable\"><input class=\"sk-toggleable__control sk-hidden--visually\" id=\"sk-estimator-id-5\" type=\"checkbox\" ><label for=\"sk-estimator-id-5\" class=\"sk-toggleable__label sk-toggleable__label-arrow\">estimator: RandomForestClassifier</label><div class=\"sk-toggleable__content\"><pre>RandomForestClassifier(n_estimators=16)</pre></div></div></div><div class=\"sk-serial\"><div class=\"sk-item\"><div class=\"sk-estimator sk-toggleable\"><input class=\"sk-toggleable__control sk-hidden--visually\" id=\"sk-estimator-id-6\" type=\"checkbox\" ><label for=\"sk-estimator-id-6\" class=\"sk-toggleable__label sk-toggleable__label-arrow\">RandomForestClassifier</label><div class=\"sk-toggleable__content\"><pre>RandomForestClassifier(n_estimators=16)</pre></div></div></div></div></div></div></div></div></div></div>"
      ],
      "text/plain": [
       "GridSearchCV(cv=10, estimator=RandomForestClassifier(n_estimators=16),\n",
       "             param_grid={'n_estimators': array([ 1,  2,  3,  4,  5,  6,  7,  8,  9, 10, 11, 12, 13, 14, 15, 16, 17,\n",
       "       18, 19])})"
      ]
     },
     "execution_count": 19,
     "metadata": {},
     "output_type": "execute_result"
    }
   ],
   "source": [
    "from sklearn.ensemble import RandomForestClassifier\n",
    "model1 = RandomForestClassifier(n_estimators = 16)\n",
    "param = {'n_estimators':np.arange(1,20)}\n",
    "rmodel_cv = GridSearchCV(model1,param,cv=10)\n",
    "rmodel_cv.fit(x,y)"
   ]
  },
  {
   "cell_type": "code",
   "execution_count": 20,
   "metadata": {},
   "outputs": [
    {
     "data": {
      "text/plain": [
       "{'n_estimators': 16}"
      ]
     },
     "execution_count": 20,
     "metadata": {},
     "output_type": "execute_result"
    }
   ],
   "source": [
    "rmodel_cv.best_params_"
   ]
  },
  {
   "cell_type": "code",
   "execution_count": 21,
   "metadata": {},
   "outputs": [
    {
     "data": {
      "text/plain": [
       "0.7046558704453442"
      ]
     },
     "execution_count": 21,
     "metadata": {},
     "output_type": "execute_result"
    }
   ],
   "source": [
    "rmodel_cv.best_score_"
   ]
  },
  {
   "cell_type": "code",
   "execution_count": 22,
   "metadata": {},
   "outputs": [],
   "source": [
    "model1 = RandomForestClassifier(n_estimators = 13)\n",
    "rmodel = model1.fit(x,y)\n",
    "ry_pred = rmodel.predict(x)"
   ]
  },
  {
   "cell_type": "code",
   "execution_count": 24,
   "metadata": {},
   "outputs": [
    {
     "data": {
      "text/plain": [
       "Text(50.722222222222214, 0.5, 'truth')"
      ]
     },
     "execution_count": 24,
     "metadata": {},
     "output_type": "execute_result"
    },
    {
     "data": {
      "image/png": "[encoded data removed]",
      "text/plain": [
       "<Figure size 640x480 with 2 Axes>"
      ]
     },
     "metadata": {},
     "output_type": "display_data"
    }
   ],
   "source": [
    "cm = confusion_matrix(y,ry_pred)\n",
    "sns.heatmap(cm,annot=True)\n",
    "plt.xlabel('predicted')\n",
    "plt.ylabel('truth')"
   ]
  },
  {
   "cell_type": "code",
   "execution_count": 25,
   "metadata": {},
   "outputs": [
    {
     "data": {
      "text/html": [
       "<div>\n",
       "<style scoped>\n",
       "    .dataframe tbody tr th:only-of-type {\n",
       "        vertical-align: middle;\n",
       "    }\n",
       "\n",
       "    .dataframe tbody tr th {\n",
       "        vertical-align: top;\n",
       "    }\n",
       "\n",
       "    .dataframe thead th {\n",
       "        text-align: right;\n",
       "    }\n",
       "</style>\n",
       "<table border=\"1\" class=\"dataframe\">\n",
       "  <thead>\n",
       "    <tr style=\"text-align: right;\">\n",
       "      <th>Predicted</th>\n",
       "      <th>Angry</th>\n",
       "      <th>Calm</th>\n",
       "      <th>Happy</th>\n",
       "      <th>Sad</th>\n",
       "      <th>All</th>\n",
       "    </tr>\n",
       "    <tr>\n",
       "      <th>True</th>\n",
       "      <th></th>\n",
       "      <th></th>\n",
       "      <th></th>\n",
       "      <th></th>\n",
       "      <th></th>\n",
       "    </tr>\n",
       "  </thead>\n",
       "  <tbody>\n",
       "    <tr>\n",
       "      <th>Angry</th>\n",
       "      <td>27</td>\n",
       "      <td>0</td>\n",
       "      <td>0</td>\n",
       "      <td>0</td>\n",
       "      <td>27</td>\n",
       "    </tr>\n",
       "    <tr>\n",
       "      <th>Calm</th>\n",
       "      <td>1</td>\n",
       "      <td>86</td>\n",
       "      <td>0</td>\n",
       "      <td>0</td>\n",
       "      <td>87</td>\n",
       "    </tr>\n",
       "    <tr>\n",
       "      <th>Happy</th>\n",
       "      <td>1</td>\n",
       "      <td>0</td>\n",
       "      <td>204</td>\n",
       "      <td>0</td>\n",
       "      <td>205</td>\n",
       "    </tr>\n",
       "    <tr>\n",
       "      <th>Sad</th>\n",
       "      <td>0</td>\n",
       "      <td>0</td>\n",
       "      <td>0</td>\n",
       "      <td>67</td>\n",
       "      <td>67</td>\n",
       "    </tr>\n",
       "    <tr>\n",
       "      <th>All</th>\n",
       "      <td>29</td>\n",
       "      <td>86</td>\n",
       "      <td>204</td>\n",
       "      <td>67</td>\n",
       "      <td>386</td>\n",
       "    </tr>\n",
       "  </tbody>\n",
       "</table>\n",
       "</div>"
      ],
      "text/plain": [
       "Predicted  Angry  Calm  Happy  Sad  All\n",
       "True                                   \n",
       "Angry         27     0      0    0   27\n",
       "Calm           1    86      0    0   87\n",
       "Happy          1     0    204    0  205\n",
       "Sad            0     0      0   67   67\n",
       "All           29    86    204   67  386"
      ]
     },
     "execution_count": 25,
     "metadata": {},
     "output_type": "execute_result"
    }
   ],
   "source": [
    "rY_pred = rmodel_cv.predict(x)\n",
    "pd.crosstab(y, rY_pred, rownames=['True'], colnames=['Predicted'], margins=True)"
   ]
  },
  {
   "cell_type": "code",
   "execution_count": 26,
   "metadata": {},
   "outputs": [
    {
     "name": "stdout",
     "output_type": "stream",
     "text": [
      "Accuracy Score is:  99.48186528497409 %\n"
     ]
    }
   ],
   "source": [
    "from sklearn import metrics \n",
    "print(\"Accuracy Score is: \",metrics.accuracy_score(y, rY_pred)*100,'%')"
   ]
  },
  {
   "cell_type": "code",
   "execution_count": 27,
   "metadata": {},
   "outputs": [
    {
     "data": {
      "text/plain": [
       "['./model.joblib']"
      ]
     },
     "execution_count": 27,
     "metadata": {},
     "output_type": "execute_result"
    }
   ],
   "source": [
    "joblib.dump(rmodel, './model.joblib')"
   ]
  },
  {
   "cell_type": "markdown",
   "metadata": {},
   "source": [
    "# Gaussian Naive Bayes Classifier"
   ]
  },
  {
   "cell_type": "code",
   "execution_count": 28,
   "metadata": {},
   "outputs": [],
   "source": [
    "from sklearn.model_selection import train_test_split \n",
    "import numpy as np\n",
    "import pandas as pdz\n",
    "import matplotlib.pyplot as plt"
   ]
  },
  {
   "cell_type": "code",
   "execution_count": 30,
   "metadata": {},
   "outputs": [],
   "source": [
    "from sklearn.naive_bayes import GaussianNB \n",
    "gnb = GaussianNB() \n",
    "gnb=gnb.fit(x, y) "
   ]
  },
  {
   "cell_type": "code",
   "execution_count": 31,
   "metadata": {},
   "outputs": [],
   "source": [
    "gnby_pred = gnb.predict(x)"
   ]
  },
  {
   "cell_type": "code",
   "execution_count": 32,
   "metadata": {},
   "outputs": [
    {
     "data": {
      "text/html": [
       "<div>\n",
       "<style scoped>\n",
       "    .dataframe tbody tr th:only-of-type {\n",
       "        vertical-align: middle;\n",
       "    }\n",
       "\n",
       "    .dataframe tbody tr th {\n",
       "        vertical-align: top;\n",
       "    }\n",
       "\n",
       "    .dataframe thead th {\n",
       "        text-align: right;\n",
       "    }\n",
       "</style>\n",
       "<table border=\"1\" class=\"dataframe\">\n",
       "  <thead>\n",
       "    <tr style=\"text-align: right;\">\n",
       "      <th>Predicted</th>\n",
       "      <th>Angry</th>\n",
       "      <th>Calm</th>\n",
       "      <th>Happy</th>\n",
       "      <th>Sad</th>\n",
       "      <th>All</th>\n",
       "    </tr>\n",
       "    <tr>\n",
       "      <th>True</th>\n",
       "      <th></th>\n",
       "      <th></th>\n",
       "      <th></th>\n",
       "      <th></th>\n",
       "      <th></th>\n",
       "    </tr>\n",
       "  </thead>\n",
       "  <tbody>\n",
       "    <tr>\n",
       "      <th>Angry</th>\n",
       "      <td>22</td>\n",
       "      <td>3</td>\n",
       "      <td>1</td>\n",
       "      <td>1</td>\n",
       "      <td>27</td>\n",
       "    </tr>\n",
       "    <tr>\n",
       "      <th>Calm</th>\n",
       "      <td>7</td>\n",
       "      <td>44</td>\n",
       "      <td>6</td>\n",
       "      <td>30</td>\n",
       "      <td>87</td>\n",
       "    </tr>\n",
       "    <tr>\n",
       "      <th>Happy</th>\n",
       "      <td>51</td>\n",
       "      <td>32</td>\n",
       "      <td>118</td>\n",
       "      <td>4</td>\n",
       "      <td>205</td>\n",
       "    </tr>\n",
       "    <tr>\n",
       "      <th>Sad</th>\n",
       "      <td>1</td>\n",
       "      <td>8</td>\n",
       "      <td>1</td>\n",
       "      <td>57</td>\n",
       "      <td>67</td>\n",
       "    </tr>\n",
       "    <tr>\n",
       "      <th>All</th>\n",
       "      <td>81</td>\n",
       "      <td>87</td>\n",
       "      <td>126</td>\n",
       "      <td>92</td>\n",
       "      <td>386</td>\n",
       "    </tr>\n",
       "  </tbody>\n",
       "</table>\n",
       "</div>"
      ],
      "text/plain": [
       "Predicted  Angry  Calm  Happy  Sad  All\n",
       "True                                   \n",
       "Angry         22     3      1    1   27\n",
       "Calm           7    44      6   30   87\n",
       "Happy         51    32    118    4  205\n",
       "Sad            1     8      1   57   67\n",
       "All           81    87    126   92  386"
      ]
     },
     "execution_count": 32,
     "metadata": {},
     "output_type": "execute_result"
    }
   ],
   "source": [
    "pd.crosstab(y, gnby_pred, rownames=['True'], colnames=['Predicted'], margins=True)"
   ]
  },
  {
   "cell_type": "code",
   "execution_count": 33,
   "metadata": {},
   "outputs": [
    {
     "name": "stdout",
     "output_type": "stream",
     "text": [
      "Accuracy Score is:% 62.43523316062176\n"
     ]
    }
   ],
   "source": [
    "print(\"Accuracy Score is:%\",metrics.accuracy_score(y, gnby_pred)*100)"
   ]
  }
 ],
 "metadata": {
  "kernelspec": {
   "display_name": "Python 3 (ipykernel)",
   "language": "python",
   "name": "python3"
  },
  "language_info": {
   "codemirror_mode": {
    "name": "ipython",
    "version": 3
   },
   "file_extension": ".py",
   "mimetype": "text/x-python",
   "name": "python",
   "nbconvert_exporter": "python",
   "pygments_lexer": "ipython3",
   "version": "3.11.3"
  },
  "widgets": {
   "application/vnd.jupyter.widget-state+json": {
    "state": {},
    "version_major": 2,
    "version_minor": 0
   }
  }
 },
 "nbformat": 4,
 "nbformat_minor": 4
}
